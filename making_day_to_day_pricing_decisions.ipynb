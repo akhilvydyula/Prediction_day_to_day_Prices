{
  "nbformat": 4,
  "nbformat_minor": 0,
  "metadata": {
    "colab": {
      "name": "making day-to-day pricing decisions",
      "provenance": [],
      "collapsed_sections": [],
      "authorship_tag": "ABX9TyNKvx0aQkTbSXxz+G+0MHI4",
      "include_colab_link": true
    },
    "kernelspec": {
      "name": "python3",
      "display_name": "Python 3"
    }
  },
  "cells": [
    {
      "cell_type": "markdown",
      "metadata": {
        "id": "view-in-github",
        "colab_type": "text"
      },
      "source": [
        "<a href=\"https://colab.research.google.com/github/akhilvydyula/Prediction_day_to_day_Prices/blob/master/making_day_to_day_pricing_decisions.ipynb\" target=\"_parent\"><img src=\"https://colab.research.google.com/assets/colab-badge.svg\" alt=\"Open In Colab\"/></a>"
      ]
    },
    {
      "cell_type": "code",
      "metadata": {
        "id": "6uCxDNeKQ-1L",
        "colab_type": "code",
        "colab": {}
      },
      "source": [
        ""
      ],
      "execution_count": 0,
      "outputs": []
    },
    {
      "cell_type": "markdown",
      "metadata": {
        "id": "aBNcoXgTRAkd",
        "colab_type": "text"
      },
      "source": [
        "## 3 brands and NAP in europe have 5 indivual maps they need day to day price decisions.\n",
        "\n",
        "appr\" 5k products name,brand,price for each product.simillar products like which is mirrror image to others\n",
        "\n"
      ]
    },
    {
      "cell_type": "code",
      "metadata": {
        "id": "d7-a-8wqQIFz",
        "colab_type": "code",
        "colab": {
          "base_uri": "https://localhost:8080/",
          "height": 17
        },
        "outputId": "c79bc68a-a7c2-47cb-cbe4-399d88a48d00"
      },
      "source": [
        "#import all the necessary packages.\n",
        "\n",
        "from PIL import Image\n",
        "import requests\n",
        "from io import BytesIO\n",
        "import matplotlib.pyplot as plt\n",
        "import numpy as np\n",
        "import pandas as pd\n",
        "import warnings\n",
        "from bs4 import BeautifulSoup\n",
        "from nltk.corpus import stopwords\n",
        "from nltk.tokenize import word_tokenize\n",
        "import nltk\n",
        "import math\n",
        "import time\n",
        "import re\n",
        "import os\n",
        "import seaborn as sns\n",
        "from collections import Counter\n",
        "from sklearn.feature_extraction.text import CountVectorizer\n",
        "from sklearn.feature_extraction.text import TfidfVectorizer\n",
        "from sklearn.metrics.pairwise import cosine_similarity  \n",
        "from sklearn.metrics import pairwise_distances\n",
        "from matplotlib import gridspec\n",
        "from scipy.sparse import hstack\n",
        "import plotly\n",
        "import plotly.figure_factory as ff\n",
        "from plotly.graph_objs import Scatter, Layout\n",
        "\n",
        "plotly.offline.init_notebook_mode(connected=True)\n",
        "warnings.filterwarnings(\"ignore\")"
      ],
      "execution_count": 2,
      "outputs": [
        {
          "output_type": "display_data",
          "data": {
            "text/html": [
              "        <script type=\"text/javascript\">\n",
              "        window.PlotlyConfig = {MathJaxConfig: 'local'};\n",
              "        if (window.MathJax) {MathJax.Hub.Config({SVG: {font: \"STIX-Web\"}});}\n",
              "        if (typeof require !== 'undefined') {\n",
              "        require.undef(\"plotly\");\n",
              "        requirejs.config({\n",
              "            paths: {\n",
              "                'plotly': ['https://cdn.plot.ly/plotly-latest.min']\n",
              "            }\n",
              "        });\n",
              "        require(['plotly'], function(Plotly) {\n",
              "            window._Plotly = Plotly;\n",
              "        });\n",
              "        }\n",
              "        </script>\n",
              "        "
            ]
          },
          "metadata": {
            "tags": []
          }
        }
      ]
    },
    {
      "cell_type": "code",
      "metadata": {
        "id": "oO4Grtk4QNlF",
        "colab_type": "code",
        "colab": {
          "base_uri": "https://localhost:8080/",
          "height": 34
        },
        "outputId": "46933a03-daca-4d01-f597-63b78479b462"
      },
      "source": [
        "# Load the Drive helper and mount\n",
        "from google.colab import drive\n",
        "\n",
        "# This will prompt for authorization.\n",
        "drive.mount('/content/drive')"
      ],
      "execution_count": 11,
      "outputs": [
        {
          "output_type": "stream",
          "text": [
            "Drive already mounted at /content/drive; to attempt to forcibly remount, call drive.mount(\"/content/drive\", force_remount=True).\n"
          ],
          "name": "stdout"
        }
      ]
    },
    {
      "cell_type": "code",
      "metadata": {
        "id": "lxnkwimtQIWZ",
        "colab_type": "code",
        "colab": {
          "base_uri": "https://localhost:8080/",
          "height": 187
        },
        "outputId": "6347afdd-00da-445e-a00a-a15a1f439830"
      },
      "source": [
        "#lists the content of your google drive\n",
        "!ls \"/content/drive/My Drive/AAIC/\""
      ],
      "execution_count": 12,
      "outputs": [
        {
          "output_type": "stream",
          "text": [
            " Automated-Response-Suggestion-for-Email-master.zip   Notes\n",
            " bow.csv\t\t\t\t\t      qa_dataset.csv\n",
            " cleaned_strings\t\t\t\t      resources.csv\n",
            " database.sqlite\t\t\t\t      train.csv\n",
            " Db-IMDB.db\t\t\t\t\t      train_data.csv\n",
            " deck.json\t\t\t\t\t      training_text\n",
            " final_features.csv\t\t\t\t      training_variants\n",
            " haberman.csv\t\t\t\t\t      trainLabels.csv\n",
            " haberman.ipynb\t\t\t\t\t      Train.zip\n",
            "'Logistic Regression using SGD.ipynb'\n"
          ],
          "name": "stdout"
        }
      ]
    },
    {
      "cell_type": "code",
      "metadata": {
        "id": "edBCBaFQSet1",
        "colab_type": "code",
        "colab": {}
      },
      "source": [
        "#To open a file\n",
        "import pandas as pd\n",
        "\n",
        "# loading the data using pandas' read_json file.\n",
        "data = pd.read_json('drive/My Drive/AAIC/deck.json',lines=True)"
      ],
      "execution_count": 0,
      "outputs": []
    },
    {
      "cell_type": "code",
      "metadata": {
        "id": "h4pvbC_nSqQP",
        "colab_type": "code",
        "colab": {
          "base_uri": "https://localhost:8080/",
          "height": 51
        },
        "outputId": "0b64b768-916e-42c9-b2df-12df0325bc01"
      },
      "source": [
        "print ('Number of data points : ', data.shape[0], \\\n",
        "       '\\nNumber of features/variables:', data.shape[1])"
      ],
      "execution_count": 45,
      "outputs": [
        {
          "output_type": "stream",
          "text": [
            "Number of data points :  4904 \n",
            "Number of features/variables: 22\n"
          ],
          "name": "stdout"
        }
      ]
    },
    {
      "cell_type": "code",
      "metadata": {
        "id": "Zgk3UtIrTAEZ",
        "colab_type": "code",
        "colab": {
          "base_uri": "https://localhost:8080/",
          "height": 119
        },
        "outputId": "e1ab224c-b3bf-49b3-a855-c5fa24751d7a"
      },
      "source": [
        "# each product/item has 22 features in the raw dataset.\n",
        "data.columns # prints column-names or feature-names."
      ],
      "execution_count": 46,
      "outputs": [
        {
          "output_type": "execute_result",
          "data": {
            "text/plain": [
              "Index(['_id', 'name', 'sku', 'url', 'brand', 'media', 'meta', 'website_id',\n",
              "       'price', 'description_text', 'spider', 'stock', 'classification',\n",
              "       'created_at', 'updated_at', 'similar_products', 'positioning', 'lv_url',\n",
              "       'price_changes', 'price_positioning', 'price_positioning_text',\n",
              "       'sizes'],\n",
              "      dtype='object')"
            ]
          },
          "metadata": {
            "tags": []
          },
          "execution_count": 46
        }
      ]
    },
    {
      "cell_type": "code",
      "metadata": {
        "id": "bdhc8U8pUGGE",
        "colab_type": "code",
        "colab": {
          "base_uri": "https://localhost:8080/",
          "height": 202
        },
        "outputId": "817f7169-1ab9-4a28-8285-4c4570bcb1c8"
      },
      "source": [
        "print ('Number of data points : ', data.shape[0], \\\n",
        "       '\\nNumber of features:', data.shape[1])\n",
        "\n",
        "data.head(1) # prints the top rows in the table."
      ],
      "execution_count": 47,
      "outputs": [
        {
          "output_type": "stream",
          "text": [
            "Number of data points :  4904 \n",
            "Number of features: 22\n"
          ],
          "name": "stdout"
        },
        {
          "output_type": "execute_result",
          "data": {
            "text/html": [
              "<div>\n",
              "<style scoped>\n",
              "    .dataframe tbody tr th:only-of-type {\n",
              "        vertical-align: middle;\n",
              "    }\n",
              "\n",
              "    .dataframe tbody tr th {\n",
              "        vertical-align: top;\n",
              "    }\n",
              "\n",
              "    .dataframe thead th {\n",
              "        text-align: right;\n",
              "    }\n",
              "</style>\n",
              "<table border=\"1\" class=\"dataframe\">\n",
              "  <thead>\n",
              "    <tr style=\"text-align: right;\">\n",
              "      <th></th>\n",
              "      <th>_id</th>\n",
              "      <th>name</th>\n",
              "      <th>sku</th>\n",
              "      <th>url</th>\n",
              "      <th>brand</th>\n",
              "      <th>media</th>\n",
              "      <th>meta</th>\n",
              "      <th>website_id</th>\n",
              "      <th>price</th>\n",
              "      <th>description_text</th>\n",
              "      <th>spider</th>\n",
              "      <th>stock</th>\n",
              "      <th>classification</th>\n",
              "      <th>created_at</th>\n",
              "      <th>updated_at</th>\n",
              "      <th>similar_products</th>\n",
              "      <th>positioning</th>\n",
              "      <th>lv_url</th>\n",
              "      <th>price_changes</th>\n",
              "      <th>price_positioning</th>\n",
              "      <th>price_positioning_text</th>\n",
              "      <th>sizes</th>\n",
              "    </tr>\n",
              "  </thead>\n",
              "  <tbody>\n",
              "    <tr>\n",
              "      <th>0</th>\n",
              "      <td>{'$oid': '5da822166504fb65da005a59'}</td>\n",
              "      <td>Prada  Feather-embellished silk-twill robe</td>\n",
              "      <td>1000954</td>\n",
              "      <td>https://www.net-a-porter.com/gb/en/product/100...</td>\n",
              "      <td>{'name': 'prada', 'sub_brand': ''}</td>\n",
              "      <td>{'standard': [{'order': 1, 'url': 'http://cach...</td>\n",
              "      <td>{'breadcrumbs': {'1': 'Clothing ', '2': ' Jack...</td>\n",
              "      <td>{'$oid': '5da6d40110309200045874e6'}</td>\n",
              "      <td>{'offer_price': {'currency': 'GBP', 'value': 1...</td>\n",
              "      <td>Gray and black silk-twill, black feathers Slip...</td>\n",
              "      <td>netaporter_gb_pv</td>\n",
              "      <td>{'available': False}</td>\n",
              "      <td>{'l1': 'clothing', 'l2': 'nightwear', 'l3': ''...</td>\n",
              "      <td>{'$date': '2019-10-21T00:00:00.000Z'}</td>\n",
              "      <td>{'$date': '2020-01-18T06:04:52.517Z'}</td>\n",
              "      <td>{'meta': {'total_results': 1, 'min_price': {'r...</td>\n",
              "      <td>{'page': 236, 'rank': 20}</td>\n",
              "      <td></td>\n",
              "      <td>[{'date': {'$date': '2019-10-21T00:00:00.000Z'...</td>\n",
              "      <td>0.0</td>\n",
              "      <td>expensive</td>\n",
              "      <td>NaN</td>\n",
              "    </tr>\n",
              "  </tbody>\n",
              "</table>\n",
              "</div>"
            ],
            "text/plain": [
              "                                    _id  ... sizes\n",
              "0  {'$oid': '5da822166504fb65da005a59'}  ...   NaN\n",
              "\n",
              "[1 rows x 22 columns]"
            ]
          },
          "metadata": {
            "tags": []
          },
          "execution_count": 47
        }
      ]
    },
    {
      "cell_type": "code",
      "metadata": {
        "id": "i7y9_mKyVduE",
        "colab_type": "code",
        "colab": {}
      },
      "source": [
        ""
      ],
      "execution_count": 0,
      "outputs": []
    },
    {
      "cell_type": "code",
      "metadata": {
        "id": "dwOFdneJVeDX",
        "colab_type": "code",
        "colab": {
          "base_uri": "https://localhost:8080/",
          "height": 102
        },
        "outputId": "2b978baa-1782-4651-dcf5-4dfd674dfa14"
      },
      "source": [
        "#description_text \n",
        "# We have total 72 unique type of product_type_names\n",
        "print(data['description_text'].describe())\n",
        "\n",
        "# 91.62% (167794/183138) of the products are shirts,\n"
      ],
      "execution_count": 35,
      "outputs": [
        {
          "output_type": "stream",
          "text": [
            "count              4904\n",
            "unique             4764\n",
            "top       Made in Italy\n",
            "freq                  9\n",
            "Name: description_text, dtype: object\n"
          ],
          "name": "stdout"
        }
      ]
    },
    {
      "cell_type": "code",
      "metadata": {
        "id": "p73D2TpQW2Ot",
        "colab_type": "code",
        "colab": {
          "base_uri": "https://localhost:8080/",
          "height": 136
        },
        "outputId": "20407975-2640-42ed-aefd-5a2227d98c44"
      },
      "source": [
        "# names of different product types\n",
        "print(data['description_text'].unique())"
      ],
      "execution_count": 36,
      "outputs": [
        {
          "output_type": "stream",
          "text": [
            "['Gray and black silk-twill, black feathers Slips on  100% silk; trim: 100% feathers (Turkey, Ostrich) Dry clean  Feathers: South Africa  Made in Italy'\n",
            " 'Black, white and gray gabardine Concealed zip fastening through front 100% polyester Dry clean  Made in Italy'\n",
            " 'Black, red and cream silk crepe de chine Concealed button, hook and zip fastening at front  100% silk  Dry clean  Made in Italy'\n",
            " ...\n",
            " 'Green and red Plexiglas®, gold-tone metal Push clasp fastening Comes in a presentation box Water resistant up to 30 meters Made in Switzerland'\n",
            " 'Multicolored Plexiglas®, silver-tone zinc Push clasp fastening Comes in a presentation box Made in Italy'\n",
            " 'Red, blue and baby-pink canvas, stainless steel Buckle fastening Comes in a presentation box Water resistant up to 50 meters Made in Switzerland']\n"
          ],
          "name": "stdout"
        }
      ]
    },
    {
      "cell_type": "code",
      "metadata": {
        "id": "FRu9lZ1TXAYG",
        "colab_type": "code",
        "colab": {
          "base_uri": "https://localhost:8080/",
          "height": 272
        },
        "outputId": "e8314357-d180-423c-ee43-0f77468d6fa2"
      },
      "source": [
        "# find the 10 most frequent product_type_names.\n",
        "product_type_count = Counter(list(data['description_text']))\n",
        "\n",
        "product_type_count.most_common(10)"
      ],
      "execution_count": 38,
      "outputs": [
        {
          "output_type": "execute_result",
          "data": {
            "text/plain": [
              "[('Made in Italy', 9),\n",
              " ('Multicolored cotton-jersey Slips on 100% cotton Hand wash Made in Italy',\n",
              "  6),\n",
              " ('', 6),\n",
              " ('Rubber sole measures approximately 20mm/ 1 inch Black and white stretch-knit Pull on Made in Italy',\n",
              "  5),\n",
              " ('Clip fastening Made in Italy', 5),\n",
              " ('Heel measures approximately 30mm/ 1 inch Black leather Zip fastening along side',\n",
              "  4),\n",
              " ('Multicolored cotton-jersey Slips on 100% cotton Machine wash', 4),\n",
              " ('Black cotton-twill 100% cotton Spot clean Made in Italy', 4),\n",
              " ('Multicolored linen Concealed zip fastening along back 100% linen; lining: 100% cotton Dry clean',\n",
              "  4),\n",
              " ('Heel measures approximately 85mm/ 3.5 inches Black leather (Calf) Zip fastening along side Made in Italy',\n",
              "  4)]"
            ]
          },
          "metadata": {
            "tags": []
          },
          "execution_count": 38
        }
      ]
    },
    {
      "cell_type": "code",
      "metadata": {
        "id": "MGjPnilNXL0O",
        "colab_type": "code",
        "colab": {
          "base_uri": "https://localhost:8080/",
          "height": 102
        },
        "outputId": "c7502f82-38bb-49f1-943a-e5fa1164bb83"
      },
      "source": [
        "#basic statistics for brand feature\n",
        "# there are 10577 unique brands\n",
        "print(data['name'].describe())\n",
        "\n",
        "# 183138 - 182987 = 151 missing values."
      ],
      "execution_count": 40,
      "outputs": [
        {
          "output_type": "stream",
          "text": [
            "count                                                  4904\n",
            "unique                                                 4578\n",
            "top       Balenciaga  Speed stretch-knit high-top sneake...\n",
            "freq                                                     11\n",
            "Name: name, dtype: object\n"
          ],
          "name": "stdout"
        }
      ]
    },
    {
      "cell_type": "code",
      "metadata": {
        "id": "y_LDbuf0ZdFq",
        "colab_type": "code",
        "colab": {
          "base_uri": "https://localhost:8080/",
          "height": 221
        },
        "outputId": "64821ac5-bfc9-4b62-8628-18f340b62824"
      },
      "source": [
        "#basic statistics for brand feature\n",
        "# there are 10577 unique brands\n",
        "print(data['sizes'])\n",
        "\n",
        "# 183138 - 182987 = 151 missing values."
      ],
      "execution_count": 61,
      "outputs": [
        {
          "output_type": "stream",
          "text": [
            "8       [IT34, IT34.5, IT35, IT35.5, IT36, IT36.5, IT3...\n",
            "49               [x small, small, medium, large, x large]\n",
            "51      [IT35, IT35.5, IT36, IT36.5, IT37, IT37.5, IT3...\n",
            "61      [IT34, IT34.5, IT35, IT35.5, IT36, IT36.5, IT3...\n",
            "67               [x small, small, medium, large, x large]\n",
            "                              ...                        \n",
            "4843    [IT34, IT34.5, IT35, IT35.5, IT36, IT36.5, IT3...\n",
            "4844    [IT34, IT34.5, IT35, IT35.5, IT36, IT36.5, IT3...\n",
            "4851    [IT34, IT34.5, IT35, IT35.5, IT36, IT36.5, IT3...\n",
            "4861    [IT34, IT34.5, IT35, IT35.5, IT36, IT36.5, IT3...\n",
            "4883    [IT34, IT34.5, IT35, IT35.5, IT36, IT36.5, IT3...\n",
            "Name: sizes, Length: 405, dtype: object\n"
          ],
          "name": "stdout"
        }
      ]
    },
    {
      "cell_type": "code",
      "metadata": {
        "id": "I1N70n9xZl9o",
        "colab_type": "code",
        "colab": {
          "base_uri": "https://localhost:8080/",
          "height": 221
        },
        "outputId": "3d5ffe11-9312-44eb-dbf2-d7c5e64e4a86"
      },
      "source": [
        "#basic statistics for brand feature\n",
        "# there are 10577 unique brands\n",
        "print(data['price_positioning'])\n",
        "\n",
        "# 183138 - 182987 = 151 missing values."
      ],
      "execution_count": 59,
      "outputs": [
        {
          "output_type": "stream",
          "text": [
            "8         0.0\n",
            "49        0.0\n",
            "51      100.0\n",
            "61      100.0\n",
            "67      100.0\n",
            "        ...  \n",
            "4843      0.0\n",
            "4844      0.0\n",
            "4851      0.0\n",
            "4861      0.0\n",
            "4883      0.0\n",
            "Name: price_positioning, Length: 405, dtype: float64\n"
          ],
          "name": "stdout"
        }
      ]
    },
    {
      "cell_type": "code",
      "metadata": {
        "id": "3vWJm4NTaFFD",
        "colab_type": "code",
        "colab": {
          "base_uri": "https://localhost:8080/",
          "height": 221
        },
        "outputId": "eee02d9f-2be4-46fa-9526-79f252f931e2"
      },
      "source": [
        "#basic statistics for brand feature\n",
        "# there are 10577 unique brands\n",
        "print(data['brand'])\n",
        "\n",
        "# 183138 - 182987 = 151 missing values."
      ],
      "execution_count": 66,
      "outputs": [
        {
          "output_type": "stream",
          "text": [
            "8                     {'name': 'gucci', 'sub_brand': ''}\n",
            "49                    {'name': 'spanx', 'sub_brand': ''}\n",
            "51          {'name': 'stuart weitzman', 'sub_brand': ''}\n",
            "61      {'name': 'christian louboutin', 'sub_brand': ''}\n",
            "67                    {'name': 'spanx', 'sub_brand': ''}\n",
            "                              ...                       \n",
            "4843             {'name': 'jimmy choo', 'sub_brand': ''}\n",
            "4844         {'name': 'gianvito rossi', 'sub_brand': ''}\n",
            "4851                  {'name': 'gucci', 'sub_brand': ''}\n",
            "4861                  {'name': 'gucci', 'sub_brand': ''}\n",
            "4883    {'name': 'christian louboutin', 'sub_brand': ''}\n",
            "Name: brand, Length: 405, dtype: object\n"
          ],
          "name": "stdout"
        }
      ]
    },
    {
      "cell_type": "code",
      "metadata": {
        "id": "ky-Jvp6YYwWa",
        "colab_type": "code",
        "colab": {
          "base_uri": "https://localhost:8080/",
          "height": 34
        },
        "outputId": "10983a13-4eca-4ab6-8b16-9c54147c4d74"
      },
      "source": [
        "# consider products which have price information\n",
        "# data['formatted_price'].isnull() => gives the information \n",
        "#about the dataframe row's which have null values price == None|Null\n",
        "data = data.loc[~data['price_positioning'].isnull()]\n",
        "print('Number of data points After eliminating price=NULL :', data.shape[0])"
      ],
      "execution_count": 53,
      "outputs": [
        {
          "output_type": "stream",
          "text": [
            "Number of data points After eliminating price=NULL : 4901\n"
          ],
          "name": "stdout"
        }
      ]
    },
    {
      "cell_type": "code",
      "metadata": {
        "id": "AB5wblTcZB4Y",
        "colab_type": "code",
        "colab": {
          "base_uri": "https://localhost:8080/",
          "height": 34
        },
        "outputId": "e82fa601-9bec-42c0-a37b-80550da09706"
      },
      "source": [
        "# consider products which have color information\n",
        "# data['color'].isnull() => gives the information about the dataframe row's which have null values price == None|Null\n",
        "data =data.loc[~data['sizes'].isnull()]\n",
        "print('Number of data points After eliminating color=NULL :', data.shape[0])"
      ],
      "execution_count": 55,
      "outputs": [
        {
          "output_type": "stream",
          "text": [
            "Number of data points After eliminating color=NULL : 405\n"
          ],
          "name": "stdout"
        }
      ]
    },
    {
      "cell_type": "code",
      "metadata": {
        "id": "5uEqlwHVZCGW",
        "colab_type": "code",
        "colab": {
          "base_uri": "https://localhost:8080/",
          "height": 34
        },
        "outputId": "88f12eee-4ac4-4f59-c9b1-adda26f1cb02"
      },
      "source": [
        "# consider products which have color information\n",
        "# data['color'].isnull() => gives the information about the dataframe row's which have null values price == None|Null\n",
        "data =data.loc[~data['brand'].isnull()]\n",
        "print('Number of data points After eliminating color=NULL :', data.shape[0])"
      ],
      "execution_count": 62,
      "outputs": [
        {
          "output_type": "stream",
          "text": [
            "Number of data points After eliminating color=NULL : 405\n"
          ],
          "name": "stdout"
        }
      ]
    },
    {
      "cell_type": "markdown",
      "metadata": {
        "id": "xj1qw1OndjYX",
        "colab_type": "text"
      },
      "source": [
        "## removing duplicates"
      ]
    },
    {
      "cell_type": "code",
      "metadata": {
        "id": "t9lwNYyPbB2M",
        "colab_type": "code",
        "colab": {
          "base_uri": "https://localhost:8080/",
          "height": 34
        },
        "outputId": "080c20fd-2893-4f52-8bab-a8a0023b0e7b"
      },
      "source": [
        "# find number of products that have duplicate titles.\n",
        "print(sum(data.duplicated('name')))\n",
        "# we have 2325 products which have same title but different color\n"
      ],
      "execution_count": 70,
      "outputs": [
        {
          "output_type": "stream",
          "text": [
            "8\n"
          ],
          "name": "stdout"
        }
      ]
    },
    {
      "cell_type": "code",
      "metadata": {
        "id": "ckD1rCofdfye",
        "colab_type": "code",
        "colab": {
          "base_uri": "https://localhost:8080/",
          "height": 34
        },
        "outputId": "a794c688-e8a0-461e-f45f-c26bf64f4e57"
      },
      "source": [
        "# Remove All products with very few words in title\n",
        "data_sorted = data[data['name'].apply(lambda x: len(x.split())>4)]\n",
        "print(\"After removal of products with short description:\", data_sorted.shape[0])"
      ],
      "execution_count": 74,
      "outputs": [
        {
          "output_type": "stream",
          "text": [
            "After removal of products with short description: 356\n"
          ],
          "name": "stdout"
        }
      ]
    },
    {
      "cell_type": "code",
      "metadata": {
        "id": "whPSOjAud4pj",
        "colab_type": "code",
        "colab": {
          "base_uri": "https://localhost:8080/",
          "height": 221
        },
        "outputId": "9de496d0-552d-4f56-e9be-1f37536accb7"
      },
      "source": [
        "print(data['price'])"
      ],
      "execution_count": 75,
      "outputs": [
        {
          "output_type": "stream",
          "text": [
            "8       {'offer_price': {'currency': 'GBP', 'value': 4...\n",
            "49      {'offer_price': {'currency': 'GBP', 'value': 3...\n",
            "51      {'offer_price': {'currency': 'GBP', 'value': 3...\n",
            "61      {'offer_price': {'currency': 'GBP', 'value': 9...\n",
            "67      {'offer_price': {'currency': 'GBP', 'value': 8...\n",
            "                              ...                        \n",
            "4843    {'offer_price': {'currency': 'GBP', 'value': 3...\n",
            "4844    {'offer_price': {'currency': 'GBP', 'value': 4...\n",
            "4851    {'offer_price': {'currency': 'GBP', 'value': 5...\n",
            "4861    {'offer_price': {'currency': 'GBP', 'value': 5...\n",
            "4883    {'offer_price': {'currency': 'GBP', 'value': 5...\n",
            "Name: price, Length: 405, dtype: object\n"
          ],
          "name": "stdout"
        }
      ]
    },
    {
      "cell_type": "code",
      "metadata": {
        "id": "AH1VdqKod5QO",
        "colab_type": "code",
        "colab": {
          "base_uri": "https://localhost:8080/",
          "height": 785
        },
        "outputId": "6e073ec2-cb36-4b07-dd18-7fb255d24266"
      },
      "source": [
        "# Sort the whole data based on title (alphabetical order of title) \n",
        "data_sorted.sort_values('name',inplace=True, ascending=False)\n",
        "data_sorted.head(5)"
      ],
      "execution_count": 77,
      "outputs": [
        {
          "output_type": "execute_result",
          "data": {
            "text/html": [
              "<div>\n",
              "<style scoped>\n",
              "    .dataframe tbody tr th:only-of-type {\n",
              "        vertical-align: middle;\n",
              "    }\n",
              "\n",
              "    .dataframe tbody tr th {\n",
              "        vertical-align: top;\n",
              "    }\n",
              "\n",
              "    .dataframe thead th {\n",
              "        text-align: right;\n",
              "    }\n",
              "</style>\n",
              "<table border=\"1\" class=\"dataframe\">\n",
              "  <thead>\n",
              "    <tr style=\"text-align: right;\">\n",
              "      <th></th>\n",
              "      <th>_id</th>\n",
              "      <th>name</th>\n",
              "      <th>sku</th>\n",
              "      <th>url</th>\n",
              "      <th>brand</th>\n",
              "      <th>media</th>\n",
              "      <th>meta</th>\n",
              "      <th>website_id</th>\n",
              "      <th>price</th>\n",
              "      <th>description_text</th>\n",
              "      <th>spider</th>\n",
              "      <th>stock</th>\n",
              "      <th>classification</th>\n",
              "      <th>created_at</th>\n",
              "      <th>updated_at</th>\n",
              "      <th>similar_products</th>\n",
              "      <th>positioning</th>\n",
              "      <th>lv_url</th>\n",
              "      <th>price_changes</th>\n",
              "      <th>price_positioning</th>\n",
              "      <th>price_positioning_text</th>\n",
              "      <th>sizes</th>\n",
              "    </tr>\n",
              "  </thead>\n",
              "  <tbody>\n",
              "    <tr>\n",
              "      <th>1272</th>\n",
              "      <td>{'$oid': '5db8119bd5424ee1f3353171'}</td>\n",
              "      <td>adidas by Stella McCartney  UltraBOOST X 3DS l...</td>\n",
              "      <td>1144205</td>\n",
              "      <td>https://www.net-a-porter.com/gb/en/product/114...</td>\n",
              "      <td>{'name': 'adidas by stella mccartney', 'sub_br...</td>\n",
              "      <td>{'standard': [{'order': 1, 'url': 'https://cac...</td>\n",
              "      <td>{'breadcrumbs': {'1': 'shoes ', '2': ' sneaker...</td>\n",
              "      <td>{'$oid': '5da6d40110309200045874e6'}</td>\n",
              "      <td>{'offer_price': {'currency': 'GBP', 'value': 1...</td>\n",
              "      <td>Rubber sole measures approximately 30mm/ 1 inc...</td>\n",
              "      <td>netaporter_gb_pv</td>\n",
              "      <td>{'available': True}</td>\n",
              "      <td>{'l1': 'footwear', 'l2': 'shoes', 'l3': 'sneak...</td>\n",
              "      <td>{'$date': '2019-10-29T00:00:00.000Z'}</td>\n",
              "      <td>{'$date': '2020-01-18T06:33:14.719Z'}</td>\n",
              "      <td>{'meta': {'total_results': 1, 'min_price': {'r...</td>\n",
              "      <td>{'page': 0, 'rank': 15}</td>\n",
              "      <td></td>\n",
              "      <td>[{'date': {'$date': '2019-10-29T00:00:00.000Z'...</td>\n",
              "      <td>0.0</td>\n",
              "      <td>expensive</td>\n",
              "      <td>[UK3.5, UK4, UK4.5, UK5, UK5.5, UK6, UK6.5, UK...</td>\n",
              "    </tr>\n",
              "    <tr>\n",
              "      <th>1202</th>\n",
              "      <td>{'$oid': '5db81155d5424ee1f3352fc0'}</td>\n",
              "      <td>adidas Originals  Yung 1 nubuck and mesh sneak...</td>\n",
              "      <td>1141831</td>\n",
              "      <td>https://www.net-a-porter.com/gb/en/product/114...</td>\n",
              "      <td>{'name': 'adidas originals', 'sub_brand': ''}</td>\n",
              "      <td>{'standard': [{'order': 1, 'url': 'https://cac...</td>\n",
              "      <td>{'breadcrumbs': {'1': 'shoes ', '2': ' sneaker...</td>\n",
              "      <td>{'$oid': '5da6d40110309200045874e6'}</td>\n",
              "      <td>{'offer_price': {'currency': 'GBP', 'value': 2...</td>\n",
              "      <td>Sole measures approximately 25mm/ 1 inch Navy,...</td>\n",
              "      <td>netaporter_gb_pv</td>\n",
              "      <td>{'available': True}</td>\n",
              "      <td>{'l1': 'footwear', 'l2': 'shoes', 'l3': 'sneak...</td>\n",
              "      <td>{'$date': '2019-10-29T00:00:00.000Z'}</td>\n",
              "      <td>{'$date': '2020-01-18T06:33:10.584Z'}</td>\n",
              "      <td>{'meta': {'total_results': 1, 'min_price': {'r...</td>\n",
              "      <td>{'page': 0, 'rank': 30}</td>\n",
              "      <td></td>\n",
              "      <td>[{'date': {'$date': '2019-10-29T00:00:00.000Z'...</td>\n",
              "      <td>0.0</td>\n",
              "      <td>expensive</td>\n",
              "      <td>[UK4, UK4.5, UK5, UK5.5, UK6, UK6.5, UK7, UK7....</td>\n",
              "    </tr>\n",
              "    <tr>\n",
              "      <th>1203</th>\n",
              "      <td>{'$oid': '5db810ced5424ee1f3352b90'}</td>\n",
              "      <td>adidas Originals  EQT Gazelle rubber-trimmed l...</td>\n",
              "      <td>1141844</td>\n",
              "      <td>https://www.net-a-porter.com/gb/en/product/114...</td>\n",
              "      <td>{'name': 'adidas originals', 'sub_brand': ''}</td>\n",
              "      <td>{'standard': [{'order': 1, 'url': 'https://cac...</td>\n",
              "      <td>{'breadcrumbs': {'1': 'shoes ', '2': ' sneaker...</td>\n",
              "      <td>{'$oid': '5da6d40110309200045874e6'}</td>\n",
              "      <td>{'offer_price': {'currency': 'GBP', 'value': 3...</td>\n",
              "      <td>Rubber sole measures approximately 35mm/ 1.5 i...</td>\n",
              "      <td>netaporter_gb_pv</td>\n",
              "      <td>{'available': True}</td>\n",
              "      <td>{'l1': 'footwear', 'l2': 'shoes', 'l3': 'sneak...</td>\n",
              "      <td>{'$date': '2019-10-29T00:00:00.000Z'}</td>\n",
              "      <td>{'$date': '2020-01-18T06:33:10.710Z'}</td>\n",
              "      <td>{'meta': {'total_results': 3, 'min_price': {'r...</td>\n",
              "      <td>{'page': 0, 'rank': 23}</td>\n",
              "      <td></td>\n",
              "      <td>[{'date': {'$date': '2019-10-29T00:00:00.000Z'...</td>\n",
              "      <td>0.0</td>\n",
              "      <td>expensive</td>\n",
              "      <td>[UK4, UK4.5, UK5, UK5.5, UK6, UK6.5, UK7, UK7....</td>\n",
              "    </tr>\n",
              "    <tr>\n",
              "      <th>1204</th>\n",
              "      <td>{'$oid': '5db81155d5424ee1f3352fc6'}</td>\n",
              "      <td>adidas Originals  Continental 80 grosgrain-tri...</td>\n",
              "      <td>1141846</td>\n",
              "      <td>https://www.net-a-porter.com/gb/en/product/114...</td>\n",
              "      <td>{'name': 'adidas originals', 'sub_brand': ''}</td>\n",
              "      <td>{'standard': [{'order': 1, 'url': 'https://cac...</td>\n",
              "      <td>{'breadcrumbs': {'1': 'shoes ', '2': ' sneaker...</td>\n",
              "      <td>{'$oid': '5da6d40110309200045874e6'}</td>\n",
              "      <td>{'offer_price': {'currency': 'GBP', 'value': 3...</td>\n",
              "      <td>Rubber sole measures approximately 20mm/ 1 inc...</td>\n",
              "      <td>netaporter_gb_pv</td>\n",
              "      <td>{'available': True}</td>\n",
              "      <td>{'l1': 'footwear', 'l2': 'shoes', 'l3': 'sneak...</td>\n",
              "      <td>{'$date': '2019-10-29T00:00:00.000Z'}</td>\n",
              "      <td>{'$date': '2020-01-18T06:33:09.934Z'}</td>\n",
              "      <td>{'meta': {'total_results': 1, 'min_price': {'r...</td>\n",
              "      <td>{'page': 0, 'rank': 37}</td>\n",
              "      <td></td>\n",
              "      <td>[{'date': {'$date': '2019-10-29T00:00:00.000Z'...</td>\n",
              "      <td>0.0</td>\n",
              "      <td>expensive</td>\n",
              "      <td>[UK4, UK4.5, UK5, UK5.5, UK6, UK6.5, UK7, UK7....</td>\n",
              "    </tr>\n",
              "    <tr>\n",
              "      <th>302</th>\n",
              "      <td>{'$oid': '5dc459c92958d5a2a7b54be8'}</td>\n",
              "      <td>adidas Originals  Adibreak appliquéd striped s...</td>\n",
              "      <td>1096348</td>\n",
              "      <td>https://www.net-a-porter.com/gb/en/product/109...</td>\n",
              "      <td>{'name': 'adidas originals', 'sub_brand': ''}</td>\n",
              "      <td>{'standard': [{'order': 1, 'url': 'https://cac...</td>\n",
              "      <td>{'bert_original_classification': {'l1': 'cloth...</td>\n",
              "      <td>{'$oid': '5da6d40110309200045874e6'}</td>\n",
              "      <td>{'offer_price': {'currency': 'GBP', 'value': 5...</td>\n",
              "      <td>Black, white and light-gray satin-jersey Pull ...</td>\n",
              "      <td>netaporter_gb_pv</td>\n",
              "      <td>{'available': False}</td>\n",
              "      <td>{'l1': 'clothing', 'l2': 'sportswear', 'l3': '...</td>\n",
              "      <td>{'$date': '2019-11-07T17:52:09.336Z'}</td>\n",
              "      <td>{'$date': '2020-01-18T06:11:11.849Z'}</td>\n",
              "      <td>{'meta': {'total_results': 1, 'min_price': {'r...</td>\n",
              "      <td>{'page': 261, 'rank': 29}</td>\n",
              "      <td></td>\n",
              "      <td>[{'date': {'$date': '2019-11-07T17:52:09.336Z'...</td>\n",
              "      <td>0.0</td>\n",
              "      <td>expensive</td>\n",
              "      <td>[UK6, UK8, UK10, UK12, UK14, UK16]</td>\n",
              "    </tr>\n",
              "  </tbody>\n",
              "</table>\n",
              "</div>"
            ],
            "text/plain": [
              "                                       _id  ...                                              sizes\n",
              "1272  {'$oid': '5db8119bd5424ee1f3353171'}  ...  [UK3.5, UK4, UK4.5, UK5, UK5.5, UK6, UK6.5, UK...\n",
              "1202  {'$oid': '5db81155d5424ee1f3352fc0'}  ...  [UK4, UK4.5, UK5, UK5.5, UK6, UK6.5, UK7, UK7....\n",
              "1203  {'$oid': '5db810ced5424ee1f3352b90'}  ...  [UK4, UK4.5, UK5, UK5.5, UK6, UK6.5, UK7, UK7....\n",
              "1204  {'$oid': '5db81155d5424ee1f3352fc6'}  ...  [UK4, UK4.5, UK5, UK5.5, UK6, UK6.5, UK7, UK7....\n",
              "302   {'$oid': '5dc459c92958d5a2a7b54be8'}  ...                 [UK6, UK8, UK10, UK12, UK14, UK16]\n",
              "\n",
              "[5 rows x 22 columns]"
            ]
          },
          "metadata": {
            "tags": []
          },
          "execution_count": 77
        }
      ]
    },
    {
      "cell_type": "code",
      "metadata": {
        "id": "kK0Vn_VPeDXJ",
        "colab_type": "code",
        "colab": {}
      },
      "source": [
        "indices = []\n",
        "for i,row in data_sorted.iterrows():\n",
        "    indices.append(i)"
      ],
      "execution_count": 0,
      "outputs": []
    },
    {
      "cell_type": "code",
      "metadata": {
        "id": "5LWFLYtUjiRI",
        "colab_type": "code",
        "colab": {}
      },
      "source": [
        ""
      ],
      "execution_count": 0,
      "outputs": []
    },
    {
      "cell_type": "code",
      "metadata": {
        "id": "OmpBclhZjia1",
        "colab_type": "code",
        "colab": {}
      },
      "source": [
        ""
      ],
      "execution_count": 0,
      "outputs": []
    },
    {
      "cell_type": "code",
      "metadata": {
        "id": "2WR-8n1DjOrx",
        "colab_type": "code",
        "colab": {
          "base_uri": "https://localhost:8080/",
          "height": 34
        },
        "outputId": "9cf8e728-58bf-4184-883a-270979d89381"
      },
      "source": [
        "print('Number of data points : ', data.shape[0])"
      ],
      "execution_count": 82,
      "outputs": [
        {
          "output_type": "stream",
          "text": [
            "Number of data points :  405\n"
          ],
          "name": "stdout"
        }
      ]
    },
    {
      "cell_type": "markdown",
      "metadata": {
        "id": "C3vFRIBHjtoq",
        "colab_type": "text"
      },
      "source": [
        "# text preprocessing"
      ]
    },
    {
      "cell_type": "code",
      "metadata": {
        "id": "ImIGGXTsj2fs",
        "colab_type": "code",
        "colab": {
          "base_uri": "https://localhost:8080/",
          "height": 68
        },
        "outputId": "9e0a124c-48aa-4eb2-a01d-a16ffbe4d7d2"
      },
      "source": [
        "import nltk\n",
        "nltk.download('stopwords')"
      ],
      "execution_count": 84,
      "outputs": [
        {
          "output_type": "stream",
          "text": [
            "[nltk_data] Downloading package stopwords to /root/nltk_data...\n",
            "[nltk_data]   Unzipping corpora/stopwords.zip.\n"
          ],
          "name": "stdout"
        },
        {
          "output_type": "execute_result",
          "data": {
            "text/plain": [
              "True"
            ]
          },
          "metadata": {
            "tags": []
          },
          "execution_count": 84
        }
      ]
    },
    {
      "cell_type": "code",
      "metadata": {
        "id": "LTutkKC3jO2H",
        "colab_type": "code",
        "colab": {
          "base_uri": "https://localhost:8080/",
          "height": 54
        },
        "outputId": "c0508d14-6d2d-4c93-9a83-eac24d3a3bfa"
      },
      "source": [
        "# we use the list of stop words that are downloaded from nltk lib.\n",
        "stop_words = set(stopwords.words('english'))\n",
        "print ('list of stop words:', stop_words)\n",
        "\n",
        "def nlp_preprocessing(total_text, index, column):\n",
        "    if type(total_text) is not int:\n",
        "        string = \"\"\n",
        "        for words in total_text.split():\n",
        "            # remove the special chars in review like '\"#$@!%^&*()_+-~?>< etc.\n",
        "            word = (\"\".join(e for e in words if e.isalnum()))\n",
        "            # Conver all letters to lower-case\n",
        "            word = word.lower()\n",
        "            # stop-word removal\n",
        "            if not word in stop_words:\n",
        "                string += word + \" \"\n",
        "        data[column][index] = string"
      ],
      "execution_count": 85,
      "outputs": [
        {
          "output_type": "stream",
          "text": [
            "list of stop words: {'his', 'just', 'll', 'off', 'after', 'couldn', 'under', 'and', 'how', 'only', 'such', 'be', 'no', 'until', 'on', 'being', 'now', 'herself', 'why', 'own', \"that'll\", 'a', 'wasn', 'are', 'over', 'more', 'once', 'ain', 'here', 'few', 'further', 'not', 'yours', 'this', 'you', 'both', 'same', 'or', 'yourself', 'weren', 'out', 'm', 'wouldn', 'at', \"she's\", \"won't\", 'themselves', 'during', 'her', \"mustn't\", \"it's\", 'into', 'was', 'd', 'had', 'we', 't', 'but', 'i', 'didn', 'itself', 'yourselves', \"couldn't\", \"mightn't\", 'my', 'that', 'against', 'is', 'our', 'o', \"isn't\", 'there', 'again', 'below', \"wouldn't\", 'they', 'aren', 'have', 'than', 'them', 'some', 'those', 'if', 'as', 'the', 'very', 'won', 'himself', 'him', 'so', \"you've\", 'other', \"hasn't\", 'up', 'from', \"you'll\", 'mightn', 'will', \"weren't\", 'don', \"shan't\", 'hers', \"aren't\", 'been', 'when', 'about', 'their', 'myself', 'by', 'because', 'your', 'while', 'haven', 'did', 'y', \"didn't\", 'down', 'isn', 're', \"shouldn't\", \"doesn't\", 'through', 'it', 'should', \"needn't\", 'ourselves', 'can', 'in', 'were', 'these', \"haven't\", \"you'd\", \"hadn't\", 'most', 'what', 'which', 'shan', 'ours', 'all', 's', 'each', 'hadn', 'mustn', 'shouldn', 'does', \"wasn't\", 'theirs', 'has', 'of', 'hasn', 'ma', 'with', 've', 'me', \"don't\", 'then', 'whom', 'nor', 'before', 'doesn', 'am', 'its', 'where', 'any', 'between', 'doing', 'for', \"you're\", 'she', 'needn', 'he', 'an', 'do', \"should've\", 'above', 'too', 'to', 'having', 'who'}\n"
          ],
          "name": "stdout"
        }
      ]
    },
    {
      "cell_type": "code",
      "metadata": {
        "id": "hROyg4ftjjV3",
        "colab_type": "code",
        "colab": {
          "base_uri": "https://localhost:8080/",
          "height": 68
        },
        "outputId": "b56839c0-a352-4770-fe1e-64eeb5f0d603"
      },
      "source": [
        "%%time\n",
        "start_time = time.clock()\n",
        "# we take each title and we text-preprocess it.\n",
        "for index, row in data.iterrows():\n",
        "    nlp_preprocessing(row['name'], index, 'name')\n",
        "# we print the time it took to preprocess whole titles \n",
        "print(time.clock() - start_time, \"seconds\")"
      ],
      "execution_count": 87,
      "outputs": [
        {
          "output_type": "stream",
          "text": [
            "0.11224299999999943 seconds\n",
            "CPU times: user 113 ms, sys: 0 ns, total: 113 ms\n",
            "Wall time: 117 ms\n"
          ],
          "name": "stdout"
        }
      ]
    },
    {
      "cell_type": "code",
      "metadata": {
        "id": "EgguhCJ5jjh-",
        "colab_type": "code",
        "colab": {
          "base_uri": "https://localhost:8080/",
          "height": 335
        },
        "outputId": "acc34f27-945e-4789-df1e-9b46cb14ca61"
      },
      "source": [
        "%%time\n",
        "data.head(2)"
      ],
      "execution_count": 100,
      "outputs": [
        {
          "output_type": "stream",
          "text": [
            "CPU times: user 518 µs, sys: 979 µs, total: 1.5 ms\n",
            "Wall time: 2.5 ms\n"
          ],
          "name": "stdout"
        },
        {
          "output_type": "execute_result",
          "data": {
            "text/html": [
              "<div>\n",
              "<style scoped>\n",
              "    .dataframe tbody tr th:only-of-type {\n",
              "        vertical-align: middle;\n",
              "    }\n",
              "\n",
              "    .dataframe tbody tr th {\n",
              "        vertical-align: top;\n",
              "    }\n",
              "\n",
              "    .dataframe thead th {\n",
              "        text-align: right;\n",
              "    }\n",
              "</style>\n",
              "<table border=\"1\" class=\"dataframe\">\n",
              "  <thead>\n",
              "    <tr style=\"text-align: right;\">\n",
              "      <th></th>\n",
              "      <th>_id</th>\n",
              "      <th>name</th>\n",
              "      <th>sku</th>\n",
              "      <th>url</th>\n",
              "      <th>brand</th>\n",
              "      <th>media</th>\n",
              "      <th>meta</th>\n",
              "      <th>website_id</th>\n",
              "      <th>price</th>\n",
              "      <th>description_text</th>\n",
              "      <th>spider</th>\n",
              "      <th>stock</th>\n",
              "      <th>classification</th>\n",
              "      <th>created_at</th>\n",
              "      <th>updated_at</th>\n",
              "      <th>similar_products</th>\n",
              "      <th>positioning</th>\n",
              "      <th>lv_url</th>\n",
              "      <th>price_changes</th>\n",
              "      <th>price_positioning</th>\n",
              "      <th>price_positioning_text</th>\n",
              "      <th>sizes</th>\n",
              "    </tr>\n",
              "  </thead>\n",
              "  <tbody>\n",
              "    <tr>\n",
              "      <th>8</th>\n",
              "      <td>{'$oid': '5db81088d5424ee1f33529d6'}</td>\n",
              "      <td>gucci ace watersnaketrimmed embroidered leathe...</td>\n",
              "      <td>1009127</td>\n",
              "      <td>https://www.net-a-porter.com/gb/en/product/100...</td>\n",
              "      <td>{'name': 'gucci', 'sub_brand': ''}</td>\n",
              "      <td>{'standard': [{'order': 1, 'url': 'https://cac...</td>\n",
              "      <td>{'breadcrumbs': {'1': 'shoes ', '2': ' sneaker...</td>\n",
              "      <td>{'$oid': '5da6d40110309200045874e6'}</td>\n",
              "      <td>{'offer_price': {'currency': 'GBP', 'value': 4...</td>\n",
              "      <td>Sole measures approximately 20mm/ 1 inch White...</td>\n",
              "      <td>netaporter_gb_pv</td>\n",
              "      <td>{'available': True}</td>\n",
              "      <td>{'l1': 'footwear', 'l2': 'shoes', 'l3': 'sneak...</td>\n",
              "      <td>{'$date': '2019-10-29T00:00:00.000Z'}</td>\n",
              "      <td>{'$date': '2020-01-18T06:10:47.605Z'}</td>\n",
              "      <td>{'meta': {'total_results': 3, 'min_price': {'r...</td>\n",
              "      <td>{'page': 5, 'rank': 14}</td>\n",
              "      <td></td>\n",
              "      <td>[{'date': {'$date': '2019-10-29T00:00:00.000Z'...</td>\n",
              "      <td>0.0</td>\n",
              "      <td>expensive</td>\n",
              "      <td>[IT34, IT34.5, IT35, IT35.5, IT36, IT36.5, IT3...</td>\n",
              "    </tr>\n",
              "    <tr>\n",
              "      <th>49</th>\n",
              "      <td>{'$oid': '5db8110cd5424ee1f3352cb4'}</td>\n",
              "      <td>spanx spotlight stretchtulle lace bodysuit</td>\n",
              "      <td>1050935</td>\n",
              "      <td>https://www.net-a-porter.com/gb/en/product/105...</td>\n",
              "      <td>{'name': 'spanx', 'sub_brand': ''}</td>\n",
              "      <td>{'standard': [{'order': 1, 'url': 'https://cac...</td>\n",
              "      <td>{'breadcrumbs': {'1': 'lingerie ', '2': ' shap...</td>\n",
              "      <td>{'$oid': '5da6d40110309200045874e6'}</td>\n",
              "      <td>{'offer_price': {'currency': 'GBP', 'value': 3...</td>\n",
              "      <td>Black stretch-tulle and lace Pulls on 72% nylo...</td>\n",
              "      <td>netaporter_gb_pv</td>\n",
              "      <td>{'available': False}</td>\n",
              "      <td>{'l1': 'clothing', 'l2': 'laundry', 'l3': 'sha...</td>\n",
              "      <td>{'$date': '2019-10-29T00:00:00.000Z'}</td>\n",
              "      <td>{'$date': '2020-01-18T06:04:52.348Z'}</td>\n",
              "      <td>{'meta': {'total_results': 1, 'min_price': {'r...</td>\n",
              "      <td>{'page': 11, 'rank': 47}</td>\n",
              "      <td></td>\n",
              "      <td>[{'date': {'$date': '2019-10-29T00:00:00.000Z'...</td>\n",
              "      <td>0.0</td>\n",
              "      <td>expensive</td>\n",
              "      <td>[x small, small, medium, large, x large]</td>\n",
              "    </tr>\n",
              "  </tbody>\n",
              "</table>\n",
              "</div>"
            ],
            "text/plain": [
              "                                     _id  ...                                              sizes\n",
              "8   {'$oid': '5db81088d5424ee1f33529d6'}  ...  [IT34, IT34.5, IT35, IT35.5, IT36, IT36.5, IT3...\n",
              "49  {'$oid': '5db8110cd5424ee1f3352cb4'}  ...           [x small, small, medium, large, x large]\n",
              "\n",
              "[2 rows x 22 columns]"
            ]
          },
          "metadata": {
            "tags": []
          },
          "execution_count": 100
        }
      ]
    },
    {
      "cell_type": "code",
      "metadata": {
        "id": "RA73yVYlkQ8M",
        "colab_type": "code",
        "colab": {}
      },
      "source": [
        "#Display an image\n",
        "import PIL.Image\n",
        "def display_img(url,ax,fig):\n",
        "    # we get the url of the apparel and download it\n",
        "    response = requests.get(url)\n",
        "    img = PIL.Image.open(BytesIO(response.content))\n",
        "    # we will display it in notebook \n",
        "    plt.imshow(img)\n",
        "  \n",
        "#plotting code to understand the algorithm's decision.\n",
        "def plot_heatmap(keys, values, labels, url, text):\n",
        "        # keys: list of words of recommended title\n",
        "        # values: len(values) ==  len(keys), values(i) represents the occurence of the word keys(i)\n",
        "        # labels: len(labels) == len(keys), the values of labels depends on the model we are using\n",
        "                # if model == 'bag of words': labels(i) = values(i)\n",
        "                # if model == 'tfidf weighted bag of words':labels(i) = tfidf(keys(i))\n",
        "                # if model == 'idf weighted bag of words':labels(i) = idf(keys(i))\n",
        "        # url : apparel's url\n",
        "\n",
        "        # we will devide the whole figure into two parts\n",
        "        gs = gridspec.GridSpec(2, 2, width_ratios=[4,1], height_ratios=[4,1]) \n",
        "        fig = plt.figure(figsize=(25,3))\n",
        "        \n",
        "        # 2nd, plotting image of the the apparel\n",
        "        ax = plt.subplot(gs[1])\n",
        "        # we don't want any grid lines for image and no labels on x-axis and y-axis\n",
        "        ax.grid(False)\n",
        "        ax.set_xticks([])\n",
        "        ax.set_yticks([])\n",
        "        \n",
        "        # we call dispaly_img based with paramete url\n",
        "        display_img(url, ax, fig)\n",
        "        \n",
        "        # displays combine figure ( heat map and image together)\n",
        "        plt.show()\n",
        "    \n"
      ],
      "execution_count": 0,
      "outputs": []
    },
    {
      "cell_type": "code",
      "metadata": {
        "id": "x507h2w6kb3_",
        "colab_type": "code",
        "colab": {
          "base_uri": "https://localhost:8080/",
          "height": 129
        },
        "outputId": "b95351d0-6d2c-4f1e-8667-8066c082a38d"
      },
      "source": [
        "def plot_heatmap_image(doc_id, vec1, vec2, url, text, model):\n",
        "    elif model == 'idf':\n",
        "        labels = []\n",
        "        for x in vec2.keys():\n",
        "            # idf_title_vectorizer.vocabulary_ it contains all the words in the corpus\n",
        "            # idf_title_features[doc_id, index_of_word_in_corpus] will give the idf value of word in given document (doc_id)\n",
        "            if x in  idf_title_vectorizer.vocabulary_:\n",
        "                labels.append(idf_title_features[doc_id, idf_title_vectorizer.vocabulary_[x]])\n",
        "            else:\n",
        "                labels.append(0)\n",
        "    plot_heatmap(keys, values, labels, url, text)\n"
      ],
      "execution_count": 95,
      "outputs": [
        {
          "output_type": "error",
          "ename": "SyntaxError",
          "evalue": "ignored",
          "traceback": [
            "\u001b[0;36m  File \u001b[0;32m\"<ipython-input-95-f1a02d13af3a>\"\u001b[0;36m, line \u001b[0;32m2\u001b[0m\n\u001b[0;31m    elif model == 'idf':\u001b[0m\n\u001b[0m       ^\u001b[0m\n\u001b[0;31mSyntaxError\u001b[0m\u001b[0;31m:\u001b[0m invalid syntax\n"
          ]
        }
      ]
    },
    {
      "cell_type": "code",
      "metadata": {
        "id": "C4PY1A79kcGp",
        "colab_type": "code",
        "colab": {}
      },
      "source": [
        "# this function gets a list of wrods along with the frequency of each \n",
        "# word given \"text\"\n",
        "def text_to_vector(text):\n",
        "    word = re.compile(r'\\w+')\n",
        "    words = word.findall(text)\n",
        "    # words stores list of all words in given string, you can try 'words = text.split()' this will also gives same result\n",
        "    return Counter(words) # Counter counts the occurence of each word in list, it returns dict type object {word1:count}\n",
        "\n",
        "\n",
        "def get_result(doc_id, content_a, content_b, url, model):\n",
        "    text1 = content_a\n",
        "    text2 = content_b\n",
        "    \n",
        "    # vector1 = dict{word11:#count, word12:#count, etc.}\n",
        "    vector1 = text_to_vector(text1)\n",
        "\n",
        "    # vector1 = dict{word21:#count, word22:#count, etc.}\n",
        "    vector2 = text_to_vector(text2)\n",
        "\n",
        "    plot_heatmap_image(doc_id, vector1, vector2, url, text2, model)"
      ],
      "execution_count": 0,
      "outputs": []
    },
    {
      "cell_type": "markdown",
      "metadata": {
        "id": "8G6QVEMYmPAy",
        "colab_type": "text"
      },
      "source": [
        "## extracting name features"
      ]
    },
    {
      "cell_type": "code",
      "metadata": {
        "id": "LEABESvzl75h",
        "colab_type": "code",
        "colab": {}
      },
      "source": [
        "idf_title_vectorizer = CountVectorizer()\n",
        "idf_title_features = idf_title_vectorizer.fit_transform(data['name'])\n",
        "\n",
        "# idf_title_features.shape = #data_points * #words_in_corpus\n",
        "# CountVectorizer().fit_transform(courpus) returns the a sparase matrix of dimensions #data_points * #words_in_corpus\n",
        "# idf_title_features[doc_id, index_of_word_in_corpus] = number of times the word occured in that doc"
      ],
      "execution_count": 0,
      "outputs": []
    },
    {
      "cell_type": "code",
      "metadata": {
        "id": "U5ufeSztmJAO",
        "colab_type": "code",
        "colab": {}
      },
      "source": [
        "def n_containing(word):\n",
        "    # return the number of documents which had the given word\n",
        "    return sum(1 for blob in data['name'] if word in blob.split())\n",
        "\n",
        "def idf(word):\n",
        "    # idf = log(#number of docs / #number of docs which had the given word)\n",
        "    return math.log(data.shape[0] / (n_containing(word)))"
      ],
      "execution_count": 0,
      "outputs": []
    },
    {
      "cell_type": "code",
      "metadata": {
        "id": "2Qx1ic5hmMzd",
        "colab_type": "code",
        "colab": {}
      },
      "source": [
        "# we need to convert the values into float\n",
        "idf_title_features  = idf_title_features.astype(np.float)\n",
        "\n",
        "for i in idf_title_vectorizer.vocabulary_.keys():\n",
        "    # for every word in whole corpus we will find its idf value\n",
        "    idf_val = idf(i)\n",
        "    \n",
        "    # to calculate idf_title_features we need to replace the count values with the idf values of the word\n",
        "    # idf_title_features[:, idf_title_vectorizer.vocabulary_[i]].nonzero()[0] will return all documents in which the word i present\n",
        "    for j in idf_title_features[:, idf_title_vectorizer.vocabulary_[i]].nonzero()[0]:\n",
        "        \n",
        "        # we replace the count values of word i in document j with  idf_value of word i \n",
        "        # idf_title_features[doc_id, index_of_word_in_courpus] = idf value of word\n",
        "        idf_title_features[j,idf_title_vectorizer.vocabulary_[i]] = idf_val\n",
        "        "
      ],
      "execution_count": 0,
      "outputs": []
    },
    {
      "cell_type": "code",
      "metadata": {
        "id": "iwkdRYSqmcDn",
        "colab_type": "code",
        "colab": {
          "base_uri": "https://localhost:8080/",
          "height": 350
        },
        "outputId": "764ca66e-513f-4e5d-f5e8-d9218b2c5002"
      },
      "source": [
        "# some of the brand values are empty. \n",
        "# Need to replace Null with string \"NULL\"\n",
        "data['brand'].fillna(value=\"Not given\", inplace=True )\n",
        "\n",
        "# replace spaces with hypen\n",
        "brands = [x.replace(\" \", \"-\") for x in data['brand'].values]\n",
        "\n",
        "brand_vectorizer = CountVectorizer()\n",
        "brand_features = brand_vectorizer.fit_transform(brands)\n",
        "\n",
        "\n",
        "\n",
        "extra_features = hstack((brand_features)).tocsr()"
      ],
      "execution_count": 107,
      "outputs": [
        {
          "output_type": "error",
          "ename": "AttributeError",
          "evalue": "ignored",
          "traceback": [
            "\u001b[0;31m---------------------------------------------------------------------------\u001b[0m",
            "\u001b[0;31mAttributeError\u001b[0m                            Traceback (most recent call last)",
            "\u001b[0;32m<ipython-input-107-e978148b511c>\u001b[0m in \u001b[0;36m<module>\u001b[0;34m()\u001b[0m\n\u001b[1;32m      2\u001b[0m \u001b[0;34m\u001b[0m\u001b[0m\n\u001b[1;32m      3\u001b[0m \u001b[0;31m# replace spaces with hypen\u001b[0m\u001b[0;34m\u001b[0m\u001b[0;34m\u001b[0m\u001b[0;34m\u001b[0m\u001b[0m\n\u001b[0;32m----> 4\u001b[0;31m \u001b[0mbrands\u001b[0m \u001b[0;34m=\u001b[0m \u001b[0;34m[\u001b[0m\u001b[0mx\u001b[0m\u001b[0;34m.\u001b[0m\u001b[0mreplace\u001b[0m\u001b[0;34m(\u001b[0m\u001b[0;34m\" \"\u001b[0m\u001b[0;34m,\u001b[0m \u001b[0;34m\"-\"\u001b[0m\u001b[0;34m)\u001b[0m \u001b[0;32mfor\u001b[0m \u001b[0mx\u001b[0m \u001b[0;32min\u001b[0m \u001b[0mdata\u001b[0m\u001b[0;34m[\u001b[0m\u001b[0;34m'brand'\u001b[0m\u001b[0;34m]\u001b[0m\u001b[0;34m.\u001b[0m\u001b[0mvalues\u001b[0m\u001b[0;34m]\u001b[0m\u001b[0;34m\u001b[0m\u001b[0;34m\u001b[0m\u001b[0m\n\u001b[0m\u001b[1;32m      5\u001b[0m \u001b[0;34m\u001b[0m\u001b[0m\n\u001b[1;32m      6\u001b[0m \u001b[0mbrand_vectorizer\u001b[0m \u001b[0;34m=\u001b[0m \u001b[0mCountVectorizer\u001b[0m\u001b[0;34m(\u001b[0m\u001b[0;34m)\u001b[0m\u001b[0;34m\u001b[0m\u001b[0;34m\u001b[0m\u001b[0m\n",
            "\u001b[0;32m<ipython-input-107-e978148b511c>\u001b[0m in \u001b[0;36m<listcomp>\u001b[0;34m(.0)\u001b[0m\n\u001b[1;32m      2\u001b[0m \u001b[0;34m\u001b[0m\u001b[0m\n\u001b[1;32m      3\u001b[0m \u001b[0;31m# replace spaces with hypen\u001b[0m\u001b[0;34m\u001b[0m\u001b[0;34m\u001b[0m\u001b[0;34m\u001b[0m\u001b[0m\n\u001b[0;32m----> 4\u001b[0;31m \u001b[0mbrands\u001b[0m \u001b[0;34m=\u001b[0m \u001b[0;34m[\u001b[0m\u001b[0mx\u001b[0m\u001b[0;34m.\u001b[0m\u001b[0mreplace\u001b[0m\u001b[0;34m(\u001b[0m\u001b[0;34m\" \"\u001b[0m\u001b[0;34m,\u001b[0m \u001b[0;34m\"-\"\u001b[0m\u001b[0;34m)\u001b[0m \u001b[0;32mfor\u001b[0m \u001b[0mx\u001b[0m \u001b[0;32min\u001b[0m \u001b[0mdata\u001b[0m\u001b[0;34m[\u001b[0m\u001b[0;34m'brand'\u001b[0m\u001b[0;34m]\u001b[0m\u001b[0;34m.\u001b[0m\u001b[0mvalues\u001b[0m\u001b[0;34m]\u001b[0m\u001b[0;34m\u001b[0m\u001b[0;34m\u001b[0m\u001b[0m\n\u001b[0m\u001b[1;32m      5\u001b[0m \u001b[0;34m\u001b[0m\u001b[0m\n\u001b[1;32m      6\u001b[0m \u001b[0mbrand_vectorizer\u001b[0m \u001b[0;34m=\u001b[0m \u001b[0mCountVectorizer\u001b[0m\u001b[0;34m(\u001b[0m\u001b[0;34m)\u001b[0m\u001b[0;34m\u001b[0m\u001b[0;34m\u001b[0m\u001b[0m\n",
            "\u001b[0;31mAttributeError\u001b[0m: 'dict' object has no attribute 'replace'"
          ]
        }
      ]
    },
    {
      "cell_type": "code",
      "metadata": {
        "id": "7MOY1lLyoczY",
        "colab_type": "code",
        "colab": {}
      },
      "source": [
        ""
      ],
      "execution_count": 0,
      "outputs": []
    },
    {
      "cell_type": "code",
      "metadata": {
        "id": "V3XsJnwnoaQL",
        "colab_type": "code",
        "colab": {}
      },
      "source": [
        ""
      ],
      "execution_count": 0,
      "outputs": []
    }
  ]
}